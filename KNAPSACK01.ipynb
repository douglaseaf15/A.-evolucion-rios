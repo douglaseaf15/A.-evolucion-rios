{
 "cells": [
  {
   "cell_type": "markdown",
   "metadata": {
    "id": "KnC7E9lhFEIH"
   },
   "source": [
    "# **Grupo : Douglas Ferreira, Luiz Souza**.\n"
   ]
  },
  {
   "cell_type": "code",
   "execution_count": 4,
   "metadata": {
    "id": "KqAcsGniGaAb"
   },
   "outputs": [],
   "source": [
    "import random\n",
    "import ast\n",
    "import string\n",
    "import numpy as np\n",
    "import matplotlib.pyplot as plt"
   ]
  },
  {
   "cell_type": "code",
   "execution_count": 5,
   "metadata": {
    "id": "qAXEgZLvLtWG"
   },
   "outputs": [],
   "source": [
    "prob_crossover = 0.9\n",
    "prob_mutacao = 0.05\n",
    "valores = [5,8,7,6,9,5,4,3]\n",
    "pesos = [10,18,12,14,13,11,8,6]\n",
    "tamanho_pop = 20\n",
    "#valores = [5,8,7,6,9,5,4,3,5,7,9,8,3,5,4,6,7,9,3,7]\n",
    "#pesos = [10,18,12,14,13,11,8,6,4,11,14,5,11,7,16,75,10,1,2,200]\n",
    "qtde_itens = len(valores)\n",
    "capacidade = 35\n",
    "\n"
   ]
  },
  {
   "cell_type": "markdown",
   "metadata": {
    "id": "fJ69c3os3OXI"
   },
   "source": [
    "# Gera a população inicial"
   ]
  },
  {
   "cell_type": "code",
   "execution_count": 6,
   "metadata": {
    "id": "pqis-_MmCVb7"
   },
   "outputs": [],
   "source": [
    "def gera_pop():\n",
    "  populacao = []\n",
    "  for i in range(tamanho_pop):\n",
    "    individuo  = list(np.random.randint(2, size=qtde_itens))\n",
    "    \n",
    "    populacao.append(individuo)\n",
    "  return populacao\n"
   ]
  },
  {
   "cell_type": "markdown",
   "metadata": {
    "id": "9ggYAazG3Sr5"
   },
   "source": [
    "# Função de aptidão:\n",
    "Nessa função é empregado o conceito de penalização às soluções candidatas que ferirem a restrição de capacidade das mochilas. Caso a solução viole essa restrição o valor do fitness será penalizado para baixo. De forma mais clara e em termos matemáticos: \n",
    "\n",
    "$f'(\\hat{x})=  \\sum_{j=1}^{N} v_j x_j - Pen(\\hat{x})$\n",
    "\n",
    "\n",
    "sendo: $Pen(\\hat{x}) = \n",
    "    \\begin{cases}\n",
    "      0, & \\text{se}\\  \\hat{x} \\ é \\ válida \\\\\n",
    "      \\rho(\\sum_{j=1}^{N} w_j x_j - cap), & \\text{Caso contrário}\n",
    "    \\end{cases}$ \n",
    "\n",
    "com \n",
    "\n",
    "$\\rho = max(\\frac{v_j}{w_j})$, $\\forall_j =  \\ {1,...,N}$\n",
    "\n",
    "$v_j$ representa os valores de cada item candidato a entrar na mochila;\n",
    "\n",
    "$w_j$ representa o peso que cada item candidato a entrar na mochila tem;\n",
    "\n",
    "$x_j$ em uma solução com representação binária é 1 se o item entra na mochila e 0 se não entra\n",
    "\n",
    "cap representa a capacidade total de uma determinada mochila."
   ]
  },
  {
   "cell_type": "code",
   "execution_count": 7,
   "metadata": {
    "id": "ua7IyZhU2oyG"
   },
   "outputs": [],
   "source": [
    "def fitness(solution, valores:list=valores, pesos:list=pesos, capacidade:int=capacidade):\n",
    "  beneficio = 0\n",
    "  peso_total = 0\n",
    "  lista_aux = []\n",
    "  for j in range(len(pesos)):\n",
    "    lista_aux.append(valores[j]/pesos[j])\n",
    "  rho = max(lista_aux)\n",
    "\n",
    "  for i in range(len(solution)):\n",
    "    beneficio += ((solution[i]))*valores[i]\n",
    "    peso_total += ((solution[i]))*pesos[i]\n",
    "  if(peso_total > capacidade):\n",
    "    return (beneficio - rho * (peso_total - capacidade));    \n",
    "  else:\n",
    "      return beneficio\n",
    "      \n",
    "    \n",
    "\n",
    "\n"
   ]
  },
  {
   "cell_type": "markdown",
   "metadata": {
    "id": "A3a0V-bI_Lgz"
   },
   "source": [
    "# Função que calcula o benefício total e o peso total de uma determinada configuração de itens em uma mochila"
   ]
  },
  {
   "cell_type": "code",
   "execution_count": 8,
   "metadata": {
    "id": "zCdSUsbi7C32"
   },
   "outputs": [],
   "source": [
    "def calcular_beneficio_e_peso(solucao):\n",
    "  beneficio_total = 0\n",
    "  peso_total = 0\n",
    "  for i in range(len(solucao)):\n",
    "    beneficio_total += valores[i]*solucao[i]\n",
    "    peso_total += pesos[i]*solucao[i]\n",
    "  return beneficio_total, peso_total\n"
   ]
  },
  {
   "cell_type": "markdown",
   "metadata": {
    "id": "ehcT1gZ_3pi5"
   },
   "source": [
    "# Realiza crossover com um ponto de corte"
   ]
  },
  {
   "cell_type": "code",
   "execution_count": 9,
   "metadata": {
    "id": "xoF8Zp3q3hJo"
   },
   "outputs": [],
   "source": [
    "def crossover(pais, prob_crossover):\n",
    "  lista_aux = []\n",
    "  if(random.random() > prob_crossover):\n",
    "    return pais[0], pais[1]\n",
    "  else:\n",
    "    filho1 = []\n",
    "    filho2 = []\n",
    "    pontos_corte = int(np.random.randint(0, len(pais[0]), size=(1)))\n",
    "    parte1_filho1 = pais[0][0:pontos_corte]\n",
    "    parte1_filho2 = pais[1][0:pontos_corte]\n",
    "    parte2_filho1 = pais[1][(-(len(pais[1]) - pontos_corte)):] \n",
    "    parte2_filho2 = pais[0][(-(len(pais[0]) - pontos_corte)):]\n",
    "    filho1 = parte1_filho1 + parte2_filho1\n",
    "    filho2 = parte1_filho2 + parte2_filho2\n",
    "    return filho1, filho2"
   ]
  },
  {
   "cell_type": "markdown",
   "metadata": {
    "id": "dnUNgjG5910E"
   },
   "source": [
    "# Realiza a mutação Bit-Flip com uma probabilidade baixa(entre 0,02-0,1) "
   ]
  },
  {
   "cell_type": "code",
   "execution_count": 10,
   "metadata": {
    "id": "pbBrtZkK-Bxb"
   },
   "outputs": [],
   "source": [
    "def mutacao(individuo, prob_mutacao):\n",
    "  if(random.random()>prob_mutacao):\n",
    "    return individuo\n",
    "  else:\n",
    "    posicao_mut = np.random.randint(0,len(individuo))\n",
    "    if(individuo[posicao_mut] == 0):\n",
    "      individuo[posicao_mut] == 0\n",
    "    else:\n",
    "      individuo[posicao_mut] == 1\n",
    "  return individuo"
   ]
  },
  {
   "cell_type": "markdown",
   "metadata": {
    "id": "x8n-WXSPQ_rK"
   },
   "source": [
    "# Converte uma lista para um dicionário"
   ]
  },
  {
   "cell_type": "code",
   "execution_count": 11,
   "metadata": {
    "id": "ihtDUpjaRFGl"
   },
   "outputs": [],
   "source": [
    "def lista_to_dict(lista):\n",
    "    it = iter(lista)\n",
    "    dicionario = dict(zip(it, it))\n",
    "    return dicionario"
   ]
  },
  {
   "cell_type": "markdown",
   "metadata": {
    "id": "9hL-ZZDbF4ZT"
   },
   "source": [
    "# Operador de Seleção Proporcional ao Fitness + Roleta;"
   ]
  },
  {
   "cell_type": "code",
   "execution_count": 12,
   "metadata": {
    "id": "66e0W6nbGFBF"
   },
   "outputs": [],
   "source": [
    "def selecionapais(populacao):\n",
    "    lista_pop_aptidoes = []\n",
    "    aptidoes = []\n",
    "    maior = 0\n",
    "    for j in range(len(populacao)):      \n",
    "      aptidoes.append(fitness(populacao[j], valores, pesos, capacidade))\n",
    "\n",
    "    for k in range(len(populacao)):\n",
    "      lista_pop_aptidoes.append(str(populacao[k]))\n",
    "      lista_pop_aptidoes.append(aptidoes[k])\n",
    "    pop = lista_to_dict(lista_pop_aptidoes)\n",
    "    maximo = sum(pop.values())\n",
    "    pick = random.uniform(0, maximo)\n",
    "    atual = 0\n",
    "    for individuo, valor_fitness in pop.items():\n",
    "        atual += valor_fitness\n",
    "        if atual > pick:         \n",
    "            individuo= ast.literal_eval(individuo)#Converte string de uma lista para uma list de int\n",
    "            return individuo"
   ]
  },
  {
   "cell_type": "code",
   "execution_count": 13,
   "metadata": {
    "id": "_zSZUggxLIn4"
   },
   "outputs": [],
   "source": [
    "def evolucao():\n",
    "  itens = []\n",
    "  maior = 0\n",
    "  populacao = gera_pop()\n",
    "  for j in range(20000):\n",
    "    for i in range(int(tamanho_pop/2)):#Todos os indivíduos de cada  geração são substituidos \n",
    "      pai1 = selecionapais(populacao)      \n",
    "      pai2 = selecionapais(populacao)\n",
    "      filho1, filho2 = crossover([pai1, pai2], prob_crossover)\n",
    "      populacao[i] = filho1\n",
    "      populacao[i+1] = filho2\n",
    "  for k in range(len(populacao)):      \n",
    "    if(fitness(populacao[k])>maior):\n",
    "      maior = fitness(populacao[k])\n",
    "      itens = populacao[k]\n",
    "  return itens    \n",
    "\n",
    "\n"
   ]
  },
  {
   "cell_type": "code",
   "execution_count": 14,
   "metadata": {
    "id": "tdDuZk4svMG9"
   },
   "outputs": [
    {
     "ename": "KeyboardInterrupt",
     "evalue": "",
     "output_type": "error",
     "traceback": [
      "\u001b[1;31m---------------------------------------------------------------------------\u001b[0m",
      "\u001b[1;31mKeyboardInterrupt\u001b[0m                         Traceback (most recent call last)",
      "\u001b[1;32m<ipython-input-14-e752579c0461>\u001b[0m in \u001b[0;36m<module>\u001b[1;34m\u001b[0m\n\u001b[1;32m----> 1\u001b[1;33m \u001b[0msoluc\u001b[0m \u001b[1;33m=\u001b[0m \u001b[0mevolucao\u001b[0m\u001b[1;33m(\u001b[0m\u001b[1;33m)\u001b[0m\u001b[1;33m\u001b[0m\u001b[1;33m\u001b[0m\u001b[0m\n\u001b[0m",
      "\u001b[1;32m<ipython-input-13-0f0b9eb82e61>\u001b[0m in \u001b[0;36mevolucao\u001b[1;34m()\u001b[0m\n\u001b[0;32m      7\u001b[0m       \u001b[0mpai1\u001b[0m \u001b[1;33m=\u001b[0m \u001b[0mselecionapais\u001b[0m\u001b[1;33m(\u001b[0m\u001b[0mpopulacao\u001b[0m\u001b[1;33m)\u001b[0m\u001b[1;33m\u001b[0m\u001b[1;33m\u001b[0m\u001b[0m\n\u001b[0;32m      8\u001b[0m       \u001b[0mpai2\u001b[0m \u001b[1;33m=\u001b[0m \u001b[0mselecionapais\u001b[0m\u001b[1;33m(\u001b[0m\u001b[0mpopulacao\u001b[0m\u001b[1;33m)\u001b[0m\u001b[1;33m\u001b[0m\u001b[1;33m\u001b[0m\u001b[0m\n\u001b[1;32m----> 9\u001b[1;33m       \u001b[0mfilho1\u001b[0m\u001b[1;33m,\u001b[0m \u001b[0mfilho2\u001b[0m \u001b[1;33m=\u001b[0m \u001b[0mcrossover\u001b[0m\u001b[1;33m(\u001b[0m\u001b[1;33m[\u001b[0m\u001b[0mpai1\u001b[0m\u001b[1;33m,\u001b[0m \u001b[0mpai2\u001b[0m\u001b[1;33m]\u001b[0m\u001b[1;33m,\u001b[0m \u001b[0mprob_crossover\u001b[0m\u001b[1;33m)\u001b[0m\u001b[1;33m\u001b[0m\u001b[1;33m\u001b[0m\u001b[0m\n\u001b[0m\u001b[0;32m     10\u001b[0m       \u001b[0mpopulacao\u001b[0m\u001b[1;33m[\u001b[0m\u001b[0mi\u001b[0m\u001b[1;33m]\u001b[0m \u001b[1;33m=\u001b[0m \u001b[0mfilho1\u001b[0m\u001b[1;33m\u001b[0m\u001b[1;33m\u001b[0m\u001b[0m\n\u001b[0;32m     11\u001b[0m       \u001b[0mpopulacao\u001b[0m\u001b[1;33m[\u001b[0m\u001b[0mi\u001b[0m\u001b[1;33m+\u001b[0m\u001b[1;36m1\u001b[0m\u001b[1;33m]\u001b[0m \u001b[1;33m=\u001b[0m \u001b[0mfilho2\u001b[0m\u001b[1;33m\u001b[0m\u001b[1;33m\u001b[0m\u001b[0m\n",
      "\u001b[1;32m<ipython-input-9-d4ea0aa2d601>\u001b[0m in \u001b[0;36mcrossover\u001b[1;34m(pais, prob_crossover)\u001b[0m\n\u001b[0;32m      6\u001b[0m     \u001b[0mfilho1\u001b[0m \u001b[1;33m=\u001b[0m \u001b[1;33m[\u001b[0m\u001b[1;33m]\u001b[0m\u001b[1;33m\u001b[0m\u001b[1;33m\u001b[0m\u001b[0m\n\u001b[0;32m      7\u001b[0m     \u001b[0mfilho2\u001b[0m \u001b[1;33m=\u001b[0m \u001b[1;33m[\u001b[0m\u001b[1;33m]\u001b[0m\u001b[1;33m\u001b[0m\u001b[1;33m\u001b[0m\u001b[0m\n\u001b[1;32m----> 8\u001b[1;33m     \u001b[0mpontos_corte\u001b[0m \u001b[1;33m=\u001b[0m \u001b[0mint\u001b[0m\u001b[1;33m(\u001b[0m\u001b[0mnp\u001b[0m\u001b[1;33m.\u001b[0m\u001b[0mrandom\u001b[0m\u001b[1;33m.\u001b[0m\u001b[0mrandint\u001b[0m\u001b[1;33m(\u001b[0m\u001b[1;36m0\u001b[0m\u001b[1;33m,\u001b[0m \u001b[0mlen\u001b[0m\u001b[1;33m(\u001b[0m\u001b[0mpais\u001b[0m\u001b[1;33m[\u001b[0m\u001b[1;36m0\u001b[0m\u001b[1;33m]\u001b[0m\u001b[1;33m)\u001b[0m\u001b[1;33m,\u001b[0m \u001b[0msize\u001b[0m\u001b[1;33m=\u001b[0m\u001b[1;33m(\u001b[0m\u001b[1;36m1\u001b[0m\u001b[1;33m)\u001b[0m\u001b[1;33m)\u001b[0m\u001b[1;33m)\u001b[0m\u001b[1;33m\u001b[0m\u001b[1;33m\u001b[0m\u001b[0m\n\u001b[0m\u001b[0;32m      9\u001b[0m     \u001b[0mparte1_filho1\u001b[0m \u001b[1;33m=\u001b[0m \u001b[0mpais\u001b[0m\u001b[1;33m[\u001b[0m\u001b[1;36m0\u001b[0m\u001b[1;33m]\u001b[0m\u001b[1;33m[\u001b[0m\u001b[1;36m0\u001b[0m\u001b[1;33m:\u001b[0m\u001b[0mpontos_corte\u001b[0m\u001b[1;33m]\u001b[0m\u001b[1;33m\u001b[0m\u001b[1;33m\u001b[0m\u001b[0m\n\u001b[0;32m     10\u001b[0m     \u001b[0mparte1_filho2\u001b[0m \u001b[1;33m=\u001b[0m \u001b[0mpais\u001b[0m\u001b[1;33m[\u001b[0m\u001b[1;36m1\u001b[0m\u001b[1;33m]\u001b[0m\u001b[1;33m[\u001b[0m\u001b[1;36m0\u001b[0m\u001b[1;33m:\u001b[0m\u001b[0mpontos_corte\u001b[0m\u001b[1;33m]\u001b[0m\u001b[1;33m\u001b[0m\u001b[1;33m\u001b[0m\u001b[0m\n",
      "\u001b[1;31mKeyboardInterrupt\u001b[0m: "
     ]
    }
   ],
   "source": [
    "soluc = evolucao()"
   ]
  },
  {
   "cell_type": "code",
   "execution_count": null,
   "metadata": {
    "colab": {
     "base_uri": "https://localhost:8080/"
    },
    "id": "ZU1v_qmS6EaX",
    "outputId": "cdf6dc3b-4936-415e-b059-9868d769b5cb"
   },
   "outputs": [],
   "source": [
    "benef_tot, peso_tot = calcular_beneficio_e_peso(soluc)\n",
    "\n",
    "if(peso_tot<=capacidade):\n",
    "  print(\"Respeitou a restrição\")\n",
    "else:\n",
    "  print(\"Não respeitou a restrição de capacidade, considere reexecutar a função evolução \")\n",
    "print( \"O benefício total foi de:\", benef_tot,\" O peso total foi de \", peso_tot )"
   ]
  },
  {
   "cell_type": "markdown",
   "metadata": {
    "id": "2NwXq5E26q7O"
   },
   "source": [
    "# *** Disclaimer /Conclusão***"
   ]
  },
  {
   "cell_type": "markdown",
   "metadata": {
    "id": "M-irxY5q67tl"
   },
   "source": [
    "# Pelo fato do algoritmo genético não ser uma classe de solucionadores exatos, em vez disso são meta-heurísticas, nem sempre a solução acima respeitará a  restrição de capacidade da mochila. O algoritmo é estocástico e a solução as vezes pode ser até ser factível, mas pode não ser a melhor. Por isso às vezes é mandatório que se calcule a solução várias vezes, que se faça um armazenamento delas e partir desse armazenamento é preciso determinar a solução, que ao mesmo tempo, mais otimize nossa função e  respeite a(s) restrição/restrições."
   ]
  }
 ],
 "metadata": {
  "colab": {
   "collapsed_sections": [],
   "name": "KNAPSACK01.ipynb",
   "provenance": []
  },
  "kernelspec": {
   "display_name": "Python 3",
   "language": "python",
   "name": "python3"
  },
  "language_info": {
   "codemirror_mode": {
    "name": "ipython",
    "version": 3
   },
   "file_extension": ".py",
   "mimetype": "text/x-python",
   "name": "python",
   "nbconvert_exporter": "python",
   "pygments_lexer": "ipython3",
   "version": "3.7.4"
  }
 },
 "nbformat": 4,
 "nbformat_minor": 1
}
